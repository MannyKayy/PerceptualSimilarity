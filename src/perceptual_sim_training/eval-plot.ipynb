{
 "cells": [
  {
   "cell_type": "code",
   "execution_count": 1,
   "metadata": {},
   "outputs": [],
   "source": [
    "import numpy as np\n",
    "import matplotlib.pyplot as plt\n",
    "import pickle\n",
    "PLOT_ERR_BARS = True"
   ]
  },
  {
   "cell_type": "code",
   "execution_count": 2,
   "metadata": {},
   "outputs": [],
   "source": [
    "res = pickle.load(open(\"eval_results.p\", \"rb\"))"
   ]
  },
  {
   "cell_type": "code",
   "execution_count": 14,
   "metadata": {},
   "outputs": [],
   "source": [
    "def make_barplot(display_names, means, errors, title=None, colors=None, labels=None, figsize=(7,5), legend='outside'):\n",
    "    x_pos = np.arange(len(display_names))\n",
    "    \n",
    "    #print results\n",
    "    s = \"\"\n",
    "    for (name, score, error) in zip(display_names, means, errors):\n",
    "        s += '{}: {:04.1f} +/- {:04.1f}\\n'.format(name, score, error)\n",
    "    print(s)\n",
    "    \n",
    "    if colors is None:\n",
    "        # make dummy colors\n",
    "        colors = [None] * len(display_names)\n",
    "    if labels is None:\n",
    "        # make dummy labels\n",
    "        labels = [None] * len(display_names)\n",
    "        \n",
    "    # Build the plot\n",
    "    fig, ax = plt.subplots(figsize=figsize)\n",
    "    for i in range(len(display_names)):\n",
    "        yerr = errors[i] if PLOT_ERR_BARS else None\n",
    "        ax.bar(x_pos[i], means[i], yerr=yerr, align='center', color=colors[i], label=labels[i], alpha=0.6, ecolor='#444444', capsize=10)\n",
    "    ax.set_ylabel('2AFC score [%]')\n",
    "    ax.set_xticks(x_pos)\n",
    "    ax.set_xticklabels(display_names, rotation='vertical')\n",
    "    \n",
    "    min_val = 50 if np.min(means) > 50 else np.min(means) - 5\n",
    "    max_val = max(means + errors)\n",
    "    max_val = max_val // 5 * 5 + 5\n",
    "    \n",
    "    ax.set_ylim(min_val, max_val)\n",
    "    if title is not None:\n",
    "        ax.set_title(title)\n",
    "    #ax.yaxis.grid(True)\n",
    "    plt.subplots_adjust(bottom=0.15)\n",
    "    \n",
    "    if legend=='outside':\n",
    "        plt.legend(loc=4, ncol=1)\n",
    "        ax.legend(bbox_to_anchor=(1., 1.))\n",
    "    elif legend=='inside':\n",
    "        plt.legend(loc=4, ncol=2, prop={'size': 9})\n",
    "\n",
    "    # Save the figure and show\n",
    "    plt.tight_layout()\n",
    "    #plt.savefig('bar_plot_with_error_bars.png')\n",
    "    #plt.show()"
   ]
  },
  {
   "cell_type": "code",
   "execution_count": 12,
   "metadata": {},
   "outputs": [],
   "source": [
    "def set_bar_color(model_name):\n",
    "    if 'Human' in model_name:\n",
    "        return '#000000'\n",
    "    \n",
    "    if 'Deeploss' in model_name:\n",
    "        if '[LA]' in model_name:\n",
    "            return 'lightgrey'\n",
    "        else:\n",
    "            return '#8c2b2b'\n",
    "    \n",
    "    if 'Deeploss' in model_name \\\n",
    "        or 'L1' in model_name \\\n",
    "        or 'L2' in model_name \\\n",
    "        or 'SSIM' in model_name:\n",
    "        \n",
    "        if \"[LA]\" in model_name:\n",
    "            # not ours and grayscale\n",
    "            return 'darkgrey'#'#00006e'\n",
    "        else:\n",
    "            # not ours and rgb\n",
    "            return 'firebrick'#'#6e0000'\n",
    "    else:\n",
    "        if \"[LA]\" in model_name:\n",
    "            # ours and grayscale\n",
    "            return 'dimgrey' \n",
    "        else:\n",
    "            # ours and rgb\n",
    "            return '#FF0000'\n",
    "    \n",
    "    return '#FF0000'\n",
    "\n",
    "def plot_results(results, per_dataset=False, datasets=None, order=None, labels=None, display_names=None, title=None, legend='outside', figsize=(7,5)):\n",
    "    # sort\n",
    "    if order is None:\n",
    "        models = list(results.keys())\n",
    "        models = sorted(models)\n",
    "    else:\n",
    "        models = order\n",
    "    \n",
    "    # data shaping\n",
    "    if datasets is None:\n",
    "        datasets = results[models[0]].keys()\n",
    "    \n",
    "    means = np.zeros((len(models), len(datasets)))\n",
    "    errors = np.zeros((len(models), len(datasets)))\n",
    "    for i, dataset in enumerate(datasets):\n",
    "        try:\n",
    "            means[:, i] = [results[model][dataset]['score'] for model in models]\n",
    "            errors[:, i] = [results[model][dataset]['std']**2 for model in models]\n",
    "        except:\n",
    "            print('missing ' + dataset)\n",
    "        \n",
    "    # mean over all datasets\n",
    "    all_means = np.array(means)\n",
    "    \n",
    "    means = all_means.mean(axis=1)\n",
    "    errors = all_means.var(axis=1) #errors.mean(axis=1)\n",
    "        \n",
    "    # colors\n",
    "    colors = [set_bar_color(model) for model in models]\n",
    "    \n",
    "    if display_names is None:\n",
    "        display_names = models\n",
    "    make_barplot(display_names, means *100, errors * 100, title, colors=colors, labels=labels, legend=legend, figsize=figsize)      \n",
    "    \n",
    "    return models, means"
   ]
  },
  {
   "cell_type": "code",
   "execution_count": 15,
   "metadata": {},
   "outputs": [
    {
     "name": "stdout",
     "output_type": "stream",
     "text": [
      "Human: 73.7 +/- 00.5\n",
      "$L_{2}$: 60.5 +/- 00.7\n",
      "SSIM: 61.5 +/- 00.6\n",
      "Watson-DFT: 63.6 +/- 00.6\n",
      "Deeploss-VGG: 65.8 +/- 00.7\n",
      "Deep.-Squeeze: 66.3 +/- 00.7\n",
      "$L_{2}$: 62.9 +/- 00.7\n",
      "SSIM: 63.1 +/- 00.6\n",
      "Watson-DFT: 66.0 +/- 00.6\n",
      "Deeploss-VGG: 68.9 +/- 00.7\n",
      "Deep.-Squeeze: 69.9 +/- 00.6\n",
      "\n"
     ]
    },
    {
     "data": {
      "image/png": "[encoded data removed]",
      "text/plain": [
       "<Figure size 432x324 with 1 Axes>"
      ]
     },
     "metadata": {
      "needs_background": "light"
     },
     "output_type": "display_data"
    }
   ],
   "source": [
    "order = ['Human', 'L2 [LA]', 'SSIM [LA]', 'Watson-fft [LA]', 'Deeploss-vgg [LA]', 'Deeploss-squeeze [LA]', 'L2', 'SSIM', 'Watson-fft', 'Deeploss-vgg', 'Deeploss-squeeze']\n",
    "display_names =  ['Human', '$L_{2}$', 'SSIM', 'Watson-DFT', 'Deeploss-VGG', 'Deep.-Squeeze', '$L_{2}$', 'SSIM', 'Watson-DFT', 'Deeploss-VGG', 'Deep.-Squeeze']\n",
    "labels = ['Human', 'Traditional (greyscale)', None, 'Watson Model (greyscale)', 'Reference (greyscale)', None, 'Traditional (color)', None, 'Watson Model (color)', 'Reference (color)', None]\n",
    "\n",
    "\n",
    "_ = plot_results(res, order=order, title=None, per_dataset=False, labels=labels, display_names=display_names, legend='inside', figsize=(6,4.5))\n",
    "plt.savefig('./plots/2AFC_score_comparison_4_paper.pdf')\n",
    "plt.savefig('./plots/2AFC_score_comparison_4_paper.png')"
   ]
  }
 ],
 "metadata": {
  "kernelspec": {
   "display_name": "Python 3.6.9 64-bit",
   "language": "python",
   "name": "python36964bit7b1896edd01c4c1484d2b85f990cd445"
  },
  "language_info": {
   "codemirror_mode": {
    "name": "ipython",
    "version": 3
   },
   "file_extension": ".py",
   "mimetype": "text/x-python",
   "name": "python",
   "nbconvert_exporter": "python",
   "pygments_lexer": "ipython3",
   "version": "3.6.9"
  }
 },
 "nbformat": 4,
 "nbformat_minor": 2
}
