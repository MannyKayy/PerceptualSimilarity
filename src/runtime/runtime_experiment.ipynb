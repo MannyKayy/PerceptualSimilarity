{
 "cells": [
  {
   "cell_type": "code",
   "execution_count": 3,
   "metadata": {
    "colab": {},
    "colab_type": "code",
    "id": "pmH4O5Ao7zIw"
   },
   "outputs": [],
   "source": [
    "import torch\n",
    "import torch.nn as nn\n",
    "import torch.nn.functional as F\n",
    "import torchvision\n",
    "from torchvision import datasets, transforms\n",
    "from tqdm import tqdm as tqdm\n",
    "from IPython.display import clear_output\n",
    "import matplotlib.pyplot as plt\n",
    "import time\n",
    "import numpy as np\n",
    "import os\n",
    "import pickle\n",
    "from IPython.core.debugger import set_trace\n",
    "import sys\n",
    "import PIL\n",
    "from PIL import Image\n",
    "from matplotlib import pyplot as plt\n",
    "\n",
    "import sys\n",
    "sys.path.append('./../loss')\n",
    "from loss_provider import LossProvider"
   ]
  },
  {
   "cell_type": "code",
   "execution_count": 6,
   "metadata": {
    "colab": {},
    "colab_type": "code",
    "collapsed": true,
    "id": "5L1yoc4o7zLY"
   },
   "outputs": [],
   "source": [
    "dataset_path = './../datasets/celebA/images/'\n",
    "device = torch.device(\"cuda\" if torch.cuda.is_available() else \"cpu\")\n",
    "torch.manual_seed(0)\n",
    "data_dim = (3,64,64)\n",
    "data_size = np.prod(data_dim)\n",
    "batch_size = 128"
   ]
  },
  {
   "cell_type": "code",
   "execution_count": 12,
   "metadata": {},
   "outputs": [
    {
     "ename": "AssertionError",
     "evalue": "runtime experiment should be run on gpu!",
     "output_type": "error",
     "traceback": [
      "\u001b[0;31m---------------------------------------------------------------------------\u001b[0m",
      "\u001b[0;31mAssertionError\u001b[0m                            Traceback (most recent call last)",
      "\u001b[0;32m<ipython-input-12-ee09234227f7>\u001b[0m in \u001b[0;36m<module>\u001b[0;34m\u001b[0m\n\u001b[0;32m----> 1\u001b[0;31m \u001b[0;32massert\u001b[0m \u001b[0mdevice\u001b[0m \u001b[0;34m==\u001b[0m \u001b[0;34m'cuda'\u001b[0m\u001b[0;34m,\u001b[0m \u001b[0;34m'runtime experiment should be run on gpu!'\u001b[0m\u001b[0;34m\u001b[0m\u001b[0;34m\u001b[0m\u001b[0m\n\u001b[0m",
      "\u001b[0;31mAssertionError\u001b[0m: runtime experiment should be run on gpu!"
     ]
    }
   ],
   "source": [
    "assert device == 'cuda', 'runtime experiment should be run on gpu!'"
   ]
  },
  {
   "cell_type": "code",
   "execution_count": 7,
   "metadata": {
    "colab": {},
    "colab_type": "code",
    "id": "a2JcRGGI7zNw"
   },
   "outputs": [],
   "source": [
    " \n",
    "# key word args for loading data\n",
    "kwargs = {'num_workers': 1, 'pin_memory': True} if device == \"cuda\" else {}\n",
    "\n",
    "# transformers\n",
    "transformers = transforms.Compose([\n",
    "    transforms.ToTensor()                                # as tensors\n",
    "])\n",
    "transformers_la = transforms.Compose([\n",
    "    transforms.Grayscale(),\n",
    "    transforms.ToTensor()                                # as tensors\n",
    "])\n",
    "\n",
    "data_set = datasets.ImageFolder(dataset_path, transform=transformers)\n",
    "data_set_la = datasets.ImageFolder(dataset_path, transform=transformers_la)\n",
    "\n",
    "\n",
    "# load datasets and make them easily fetchable in DataLoaders\n",
    "data_loader = torch.utils.data.DataLoader(\n",
    "    data_set,\n",
    "    batch_size=batch_size, shuffle=True, drop_last=True, **kwargs)\n",
    "data_loader_la = torch.utils.data.DataLoader(\n",
    "    data_set_la,\n",
    "    batch_size=batch_size, shuffle=True, drop_last=True, **kwargs)"
   ]
  },
  {
   "cell_type": "markdown",
   "metadata": {
    "colab_type": "text",
    "id": "JRg19hermUJ9"
   },
   "source": [
    "# Data loading"
   ]
  },
  {
   "cell_type": "code",
   "execution_count": 8,
   "metadata": {
    "colab": {},
    "colab_type": "code",
    "collapsed": true,
    "id": "M-yZmTOrkytU"
   },
   "outputs": [],
   "source": [
    "for data, lable in data_loader:\n",
    "    x = data\n",
    "    break\n",
    "    \n",
    "for data, lable in data_loader_la:\n",
    "    x_la = data\n",
    "    break\n",
    "    \n",
    "x = x.to(device)\n",
    "x_la = x_la.to(device)"
   ]
  },
  {
   "cell_type": "markdown",
   "metadata": {
    "colab_type": "text",
    "id": "ip1TGjxpZZcE"
   },
   "source": [
    "# We reconstruct an inut sample, and plot the loss along the way!"
   ]
  },
  {
   "cell_type": "code",
   "execution_count": 9,
   "metadata": {
    "colab": {},
    "colab_type": "code",
    "collapsed": true,
    "id": "EaX9-lb1ZYmB"
   },
   "outputs": [],
   "source": [
    "class ReconSample(nn.Module):\n",
    "    def __init__(self, ground_truth, loss_function):\n",
    "        super().__init__()\n",
    "        self.loss = loss_function\n",
    "        self.recon = nn.Parameter(torch.randn(ground_truth.shape))\n",
    "        self.sigmoid = nn.Sigmoid()\n",
    "        \n",
    "    def get_recon(self):\n",
    "        return self.sigmoid(self.recon)\n",
    "    \n",
    "    def forward(self, ground_truth):\n",
    "        return self.loss(self.get_recon(), ground_truth)\n",
    "\n",
    "def runtime_test(x, loss_function, epochs=1000):\n",
    "    reconstructor = ReconSample(x, loss_function)\n",
    "    reconstructor = reconstructor.to(device)\n",
    "    optimizer = torch.optim.SGD(reconstructor.parameters(), lr=10**-4)\n",
    "    \n",
    "    # train\n",
    "    torch.cuda.reset_max_memory_allocated()\n",
    "    mem0 =  torch.cuda.max_memory_allocated() \n",
    "    reconstructor.loss = reconstructor.loss.to(device)\n",
    "    t0 = time.time()\n",
    "    for iter in tqdm(range(epochs), leave=True, position=0):\n",
    "        optimizer.zero_grad()\n",
    "        loss = reconstructor.forward(x)\n",
    "        loss.backward()\n",
    "        optimizer.step()\n",
    "    t1 = time.time()\n",
    "    mem1 = torch.cuda.max_memory_allocated()\n",
    "        \n",
    "    return {'runtime':t1 - t0, 'memory':(mem1 - mem0) / (1024**2)}\n",
    "        "
   ]
  },
  {
   "cell_type": "code",
   "execution_count": 10,
   "metadata": {
    "colab": {
     "base_uri": "https://localhost:8080/",
     "height": 161
    },
    "colab_type": "code",
    "executionInfo": {
     "elapsed": 274694,
     "status": "ok",
     "timestamp": 1567115001421,
     "user": {
      "displayName": "Steffen",
      "photoUrl": "https://lh3.googleusercontent.com/a-/AAuE7mAeU5QBgpn32R9Fl2b6Vslnm9tC5z9t6xsBFy8x=s64",
      "userId": "02457898349050092827"
     },
     "user_tz": -120
    },
    "id": "3pw6hKzTpWqP",
    "outputId": "873ac070-daf3-49d8-e7c9-cd5ec34ec525"
   },
   "outputs": [
    {
     "ename": "AttributeError",
     "evalue": "module 'torch.cuda' has no attribute 'reset_max_memory_allocated'",
     "output_type": "error",
     "traceback": [
      "\u001b[0;31m---------------------------------------------------------------------------\u001b[0m",
      "\u001b[0;31mAttributeError\u001b[0m                            Traceback (most recent call last)",
      "\u001b[0;32m<ipython-input-10-b393ea0ee357>\u001b[0m in \u001b[0;36m<module>\u001b[0;34m\u001b[0m\n\u001b[1;32m      6\u001b[0m         \u001b[0mloss_function\u001b[0m \u001b[0;34m=\u001b[0m \u001b[0mloss_provider\u001b[0m\u001b[0;34m.\u001b[0m\u001b[0mget_loss_function\u001b[0m\u001b[0;34m(\u001b[0m\u001b[0mloss_metric\u001b[0m\u001b[0;34m,\u001b[0m \u001b[0mcolor_model\u001b[0m\u001b[0;34m)\u001b[0m\u001b[0;34m\u001b[0m\u001b[0;34m\u001b[0m\u001b[0m\n\u001b[1;32m      7\u001b[0m         \u001b[0mdata\u001b[0m \u001b[0;34m=\u001b[0m \u001b[0mx\u001b[0m \u001b[0;32mif\u001b[0m \u001b[0mcolor_model\u001b[0m \u001b[0;34m==\u001b[0m \u001b[0;34m'RGB'\u001b[0m \u001b[0;32melse\u001b[0m \u001b[0mx_la\u001b[0m\u001b[0;34m\u001b[0m\u001b[0;34m\u001b[0m\u001b[0m\n\u001b[0;32m----> 8\u001b[0;31m         \u001b[0mresults\u001b[0m\u001b[0;34m[\u001b[0m\u001b[0mloss_metric\u001b[0m \u001b[0;34m+\u001b[0m \u001b[0;34m' '\u001b[0m \u001b[0;34m+\u001b[0m \u001b[0mcolor_model\u001b[0m\u001b[0;34m]\u001b[0m \u001b[0;34m=\u001b[0m \u001b[0mruntime_test\u001b[0m\u001b[0;34m(\u001b[0m\u001b[0mdata\u001b[0m\u001b[0;34m,\u001b[0m \u001b[0mloss_function\u001b[0m\u001b[0;34m,\u001b[0m \u001b[0mepochs\u001b[0m\u001b[0;34m=\u001b[0m\u001b[0;36m500\u001b[0m\u001b[0;34m)\u001b[0m\u001b[0;34m\u001b[0m\u001b[0;34m\u001b[0m\u001b[0m\n\u001b[0m\u001b[1;32m      9\u001b[0m \u001b[0;34m\u001b[0m\u001b[0m\n\u001b[1;32m     10\u001b[0m \u001b[0mpickle\u001b[0m\u001b[0;34m.\u001b[0m\u001b[0mdump\u001b[0m\u001b[0;34m(\u001b[0m\u001b[0mresults\u001b[0m\u001b[0;34m,\u001b[0m \u001b[0mopen\u001b[0m\u001b[0;34m(\u001b[0m\u001b[0mos\u001b[0m\u001b[0;34m.\u001b[0m\u001b[0mpath\u001b[0m\u001b[0;34m.\u001b[0m\u001b[0mjoin\u001b[0m\u001b[0;34m(\u001b[0m\u001b[0mg_drive_path\u001b[0m\u001b[0;34m,\u001b[0m \u001b[0;34m'runtime_results.pickle'\u001b[0m\u001b[0;34m)\u001b[0m\u001b[0;34m,\u001b[0m \u001b[0;34m'wb'\u001b[0m\u001b[0;34m)\u001b[0m\u001b[0;34m)\u001b[0m\u001b[0;34m\u001b[0m\u001b[0;34m\u001b[0m\u001b[0m\n",
      "\u001b[0;32m<ipython-input-9-bffa684c3d04>\u001b[0m in \u001b[0;36mruntime_test\u001b[0;34m(x, loss_function, epochs)\u001b[0m\n\u001b[1;32m     18\u001b[0m \u001b[0;34m\u001b[0m\u001b[0m\n\u001b[1;32m     19\u001b[0m     \u001b[0;31m# train\u001b[0m\u001b[0;34m\u001b[0m\u001b[0;34m\u001b[0m\u001b[0;34m\u001b[0m\u001b[0m\n\u001b[0;32m---> 20\u001b[0;31m     \u001b[0mtorch\u001b[0m\u001b[0;34m.\u001b[0m\u001b[0mcuda\u001b[0m\u001b[0;34m.\u001b[0m\u001b[0mreset_max_memory_allocated\u001b[0m\u001b[0;34m(\u001b[0m\u001b[0;34m)\u001b[0m\u001b[0;34m\u001b[0m\u001b[0;34m\u001b[0m\u001b[0m\n\u001b[0m\u001b[1;32m     21\u001b[0m     \u001b[0mmem0\u001b[0m \u001b[0;34m=\u001b[0m  \u001b[0mtorch\u001b[0m\u001b[0;34m.\u001b[0m\u001b[0mcuda\u001b[0m\u001b[0;34m.\u001b[0m\u001b[0mmax_memory_allocated\u001b[0m\u001b[0;34m(\u001b[0m\u001b[0;34m)\u001b[0m\u001b[0;34m\u001b[0m\u001b[0;34m\u001b[0m\u001b[0m\n\u001b[1;32m     22\u001b[0m     \u001b[0mreconstructor\u001b[0m\u001b[0;34m.\u001b[0m\u001b[0mloss\u001b[0m \u001b[0;34m=\u001b[0m \u001b[0mreconstructor\u001b[0m\u001b[0;34m.\u001b[0m\u001b[0mloss\u001b[0m\u001b[0;34m.\u001b[0m\u001b[0mto\u001b[0m\u001b[0;34m(\u001b[0m\u001b[0mdevice\u001b[0m\u001b[0;34m)\u001b[0m\u001b[0;34m\u001b[0m\u001b[0;34m\u001b[0m\u001b[0m\n",
      "\u001b[0;31mAttributeError\u001b[0m: module 'torch.cuda' has no attribute 'reset_max_memory_allocated'"
     ]
    }
   ],
   "source": [
    "loss_provider = LossProvider()\n",
    "results = {}\n",
    "\n",
    "for color_model in ['RGB', 'LA']:\n",
    "    for loss_metric in loss_provider.loss_functions:\n",
    "        loss_function = loss_provider.get_loss_function(loss_metric, color_model)\n",
    "        data = x if color_model == 'RGB' else x_la\n",
    "        results[loss_metric + ' ' + color_model] = runtime_test(data, loss_function, epochs=500)\n",
    "\n",
    "pickle.dump(results, open(os.path.join(g_drive_path, 'runtime_results.pickle'), 'wb'))\n",
    "    "
   ]
  },
  {
   "cell_type": "code",
   "execution_count": 13,
   "metadata": {
    "colab": {
     "base_uri": "https://localhost:8080/",
     "height": 143
    },
    "colab_type": "code",
    "executionInfo": {
     "elapsed": 629,
     "status": "ok",
     "timestamp": 1567115035514,
     "user": {
      "displayName": "Steffen",
      "photoUrl": "https://lh3.googleusercontent.com/a-/AAuE7mAeU5QBgpn32R9Fl2b6Vslnm9tC5z9t6xsBFy8x=s64",
      "userId": "02457898349050092827"
     },
     "user_tz": -120
    },
    "id": "anTHssq0HbAA",
    "outputId": "b1441e51-1f7f-44d2-b1c5-b2a345545807"
   },
   "outputs": [
    {
     "data": {
      "text/plain": [
       "{'Deeploss-vgg LA': {'memory': 2205.69580078125,\n",
       "  'runtime': 219.17236995697021},\n",
       " 'L1 LA': {'memory': 8.0009765625, 'runtime': 0.47568821907043457},\n",
       " 'L2 LA': {'memory': 8.0009765625, 'runtime': 0.3076341152191162},\n",
       " 'SSIM LA': {'memory': 40.7529296875, 'runtime': 12.608855247497559},\n",
       " 'Watson-dct LA': {'memory': 36.0009765625, 'runtime': 15.694543361663818},\n",
       " 'Watson-fft LA': {'memory': 36.7529296875, 'runtime': 12.423550605773926}}"
      ]
     },
     "execution_count": 13,
     "metadata": {
      "tags": []
     },
     "output_type": "execute_result"
    }
   ],
   "source": [
    "results"
   ]
  }
 ],
 "metadata": {
  "accelerator": "GPU",
  "colab": {
   "machine_shape": "hm",
   "name": "runtime_experiment.ipynb",
   "provenance": [
    {
     "file_id": "1Q9z50CFyL3k6qCXztheIph7X1-CALf9x",
     "timestamp": 1567102025151
    }
   ],
   "version": "0.3.2"
  },
  "kernelspec": {
   "display_name": "venv-pytorch",
   "language": "python",
   "name": "venv-pytorch"
  },
  "language_info": {
   "codemirror_mode": {
    "name": "ipython",
    "version": 3
   },
   "file_extension": ".py",
   "mimetype": "text/x-python",
   "name": "python",
   "nbconvert_exporter": "python",
   "pygments_lexer": "ipython3",
   "version": "3.6.7"
  }
 },
 "nbformat": 4,
 "nbformat_minor": 1
}
